{
 "cells": [
  {
   "cell_type": "markdown",
   "id": "3b110f21",
   "metadata": {},
   "source": [
    "# Objetivo: Ajudar ao usuário a descobrir qual frasco de cultura e quantas células é preciso para seu experimento de cultivo celular. "
   ]
  },
  {
   "cell_type": "code",
   "execution_count": null,
   "id": "5efe1571",
   "metadata": {},
   "outputs": [],
   "source": [
    "#Valores mínimos e máximos de células para cada frasco de cultura: \n",
    "#menor que 12000 - não cultivar\n",
    "#entre 75000 e 175000- garrafa T25\n",
    "#entre 225000 e 525000- garrafa T75\n",
    "#entre 30000 e 70000- placa 6 poços\n",
    "#entre 12000 e 28000- placa 12 poços\n",
    "#acima de 175000- múltiplos frascos"
   ]
  },
  {
   "cell_type": "code",
   "execution_count": null,
   "id": "1a06fb28",
   "metadata": {},
   "outputs": [],
   "source": [
    "#de acordo com a quantidade de células informada, o usuário recebe a informação em qual frasco de cultura suas células podem ser cultivada\n",
    "células=float(input('digite o numero de células'))"
   ]
  },
  {
   "cell_type": "code",
   "execution_count": null,
   "id": "9849f112",
   "metadata": {},
   "outputs": [],
   "source": [
    "células=' '\n",
    "if células< 12000:\n",
    "  print('não cultivar')\n",
    "elif células<= 28000:\n",
    "  print('placa de 12 poços')\n",
    "elif células<= 70000:\n",
    "  print('placa de 6 poços')\n",
    "elif células<= 175000:\n",
    "  print('garrafa T25')\n",
    "elif células<= 525000:\n",
    "  print('garrafa T75')\n",
    "else:\n",
    "  print('multiplos frascos')"
   ]
  },
  {
   "cell_type": "code",
   "execution_count": null,
   "id": "4b9478ee",
   "metadata": {},
   "outputs": [],
   "source": [
    "# Para cultivo de MSCs , utilizar entre 3000 a 7000 células por cm2 de área ser cultivada\n",
    "# O usuário  vai digitar qual número de células por cm2 desejar utilizar.\n",
    "# Para descobrir qual quantidade de células serão necessárias para determinado frasco de cultura, o usuário irá informar células por cm2 x área de cultivo desejada.\n",
    "# Garrafa T25 (área com tamanho de 25 cm2 )\n",
    "# Garrafa T75 (área com tamanho de 75 cm2)\n",
    "# Placa de 6 poços  (área com tamanho de 10 cm2 por poço)\n",
    "# Placa de 12 poços  (área com tamanho de 04 cm2 por poço)"
   ]
  },
  {
   "cell_type": "code",
   "execution_count": null,
   "id": "1600a83f",
   "metadata": {},
   "outputs": [],
   "source": [
    "células por cm2 =float(input('digite o número de células de acordo com a área de cultivo por cm2, entre 3000 a 7000 por cm2 '))"
   ]
  },
  {
   "cell_type": "code",
   "execution_count": null,
   "id": "7c7909b6",
   "metadata": {},
   "outputs": [],
   "source": [
    "# o usuário vai digitar qual área de cultivo por cm2 desejar utilizar, entre as opções indicadas.\n",
    "área de cultivo = float(input('informe a área de cultivo ( entre as opções 04, 10, 25, 75 cm2): '))"
   ]
  },
  {
   "cell_type": "code",
   "execution_count": null,
   "id": "777f14ff",
   "metadata": {},
   "outputs": [],
   "source": [
    "# dada a fórmula : quantidade de células = células por cm2 * área de cultivo\n",
    "quantidade de células= células por cm2*área de cultivo\n",
    "print(quantidade de células)"
   ]
  },
  {
   "cell_type": "code",
   "execution_count": null,
   "id": "34c8bb48",
   "metadata": {},
   "outputs": [],
   "source": [
    "#Dados o seguintes dicionário e listas dentro do dicionarioa, para finalidade de saber se o usuário terá a qte de células suficiente para todo o experimento\n",
    "# gerar a  informação com a quantidade de células/mil por frasco de cultura ao longo de 7 dias de cultivo:\n",
    "#Para criar um dataframe com o pandas, primeiro nós temos que importar o pandas.\n",
    "import pandas as pd\n",
    "frascos= {'garrafa T25':['75','83','82','100','123','96','157'],\n",
    "        'garrafa T75':['230','290','376','490','520','312','443'],\n",
    "        'placa de 12 poços':['27','24','16','13','19','26','12'],\n",
    "        'placa de 6 poços':['50','41','37','67','54','49','33']}\n"
   ]
  },
  {
   "cell_type": "code",
   "execution_count": null,
   "id": "a5330f08",
   "metadata": {},
   "outputs": [],
   "source": [
    "#usar o comando do panda(pd) que transforma um dicionário em dataframe\n",
    "#dataframe\n",
    "dados_célulascultivadas = pd.DataFrame(frascos)\n",
    "print(dados_célulascultivadas)"
   ]
  },
  {
   "cell_type": "code",
   "execution_count": null,
   "id": "60cc5577",
   "metadata": {},
   "outputs": [],
   "source": [
    "#calcular a média e soma das colunas dos frascos .Para isso usar o comando mean e sum\n",
    "mean_dados_célulascultivadas=dados_célulascultivadas[ 'garrafa T75'].mean()\n",
    "print(mean_dados_célulascultivadas)\n",
    "sum_dados_célulascultivadas=dados_célulascultivadas[ 'placa de 6 poços'].sum()\n",
    "print(sum_dados_célulascultivadas)"
   ]
  }
 ],
 "metadata": {
  "kernelspec": {
   "display_name": "Python 3",
   "language": "python",
   "name": "python3"
  },
  "language_info": {
   "codemirror_mode": {
    "name": "ipython",
    "version": 3
   },
   "file_extension": ".py",
   "mimetype": "text/x-python",
   "name": "python",
   "nbconvert_exporter": "python",
   "pygments_lexer": "ipython3",
   "version": "3.8.8"
  }
 },
 "nbformat": 4,
 "nbformat_minor": 5
}
